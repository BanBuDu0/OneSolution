{
 "cells": [
  {
   "cell_type": "code",
   "execution_count": 1,
   "metadata": {},
   "outputs": [],
   "source": [
    "import numpy as np\n",
    "import random\n",
    "import math\n",
    "from sklearn.feature_selection import VarianceThreshold\n",
    "from sklearn import svm, metrics\n",
    "from sklearn.model_selection import GridSearchCV\n",
    "from sklearn import preprocessing\n",
    "import pandas as pd\n",
    "from sklearn.preprocessing import OneHotEncoder\n",
    "from sklearn.preprocessing import LabelEncoder\n",
    "from scipy import sparse\n",
    "from sklearn.decomposition import PCA\n",
    "from sklearn.preprocessing import Normalizer, MinMaxScaler"
   ]
  },
  {
   "cell_type": "code",
   "execution_count": 2,
   "metadata": {},
   "outputs": [],
   "source": [
    "path_train = \"./HuiZong1.csv\"\n",
    "path_test = \"./HuiZong_test.csv\"\n",
    "file_train = pd.read_csv(path_train,encoding=\"utf-8\", skipinitialspace=True)\n",
    "file_test = pd.read_csv(path_test, encoding=\"utf-8\", skipinitialspace=True)"
   ]
  },
  {
   "cell_type": "code",
   "execution_count": 3,
   "metadata": {},
   "outputs": [],
   "source": [
    "df_test = pd.DataFrame(file_test)\n",
    "df_train = pd.DataFrame(file_train)\n",
    "df_train = df_train.dropna()\n",
    "df_test = df_test.dropna()"
   ]
  },
  {
   "cell_type": "code",
   "execution_count": 4,
   "metadata": {},
   "outputs": [
    {
     "name": "stdout",
     "output_type": "stream",
     "text": [
      "(13269, 28)\n"
     ]
    },
    {
     "data": {
      "text/html": [
       "<div>\n",
       "<style scoped>\n",
       "    .dataframe tbody tr th:only-of-type {\n",
       "        vertical-align: middle;\n",
       "    }\n",
       "\n",
       "    .dataframe tbody tr th {\n",
       "        vertical-align: top;\n",
       "    }\n",
       "\n",
       "    .dataframe thead th {\n",
       "        text-align: right;\n",
       "    }\n",
       "</style>\n",
       "<table border=\"1\" class=\"dataframe\">\n",
       "  <thead>\n",
       "    <tr style=\"text-align: right;\">\n",
       "      <th></th>\n",
       "      <th>ID</th>\n",
       "      <th>注册资本</th>\n",
       "      <th>行业</th>\n",
       "      <th>区域</th>\n",
       "      <th>企业类型</th>\n",
       "      <th>控制人类型</th>\n",
       "      <th>控制人持股比例</th>\n",
       "      <th>专利</th>\n",
       "      <th>商标</th>\n",
       "      <th>著作权</th>\n",
       "      <th>...</th>\n",
       "      <th>从业人数</th>\n",
       "      <th>资产总额</th>\n",
       "      <th>负债总额</th>\n",
       "      <th>营业总收入</th>\n",
       "      <th>主营业务收入</th>\n",
       "      <th>利润总额</th>\n",
       "      <th>净利润</th>\n",
       "      <th>纳税总额</th>\n",
       "      <th>所有者权益合计</th>\n",
       "      <th>flag</th>\n",
       "    </tr>\n",
       "  </thead>\n",
       "  <tbody>\n",
       "    <tr>\n",
       "      <td>1</td>\n",
       "      <td>230</td>\n",
       "      <td>3360.0</td>\n",
       "      <td>服务业</td>\n",
       "      <td>广东</td>\n",
       "      <td>农民专业合作社</td>\n",
       "      <td>企业法人</td>\n",
       "      <td>1.00</td>\n",
       "      <td>0.0</td>\n",
       "      <td>0.0</td>\n",
       "      <td>0.0</td>\n",
       "      <td>...</td>\n",
       "      <td>480.666667</td>\n",
       "      <td>76160.0000</td>\n",
       "      <td>94080.00000</td>\n",
       "      <td>1.004640e+05</td>\n",
       "      <td>65822.40000</td>\n",
       "      <td>39838.40000</td>\n",
       "      <td>-10046.40000</td>\n",
       "      <td>0.0</td>\n",
       "      <td>-17920.00000</td>\n",
       "      <td>1</td>\n",
       "    </tr>\n",
       "    <tr>\n",
       "      <td>2</td>\n",
       "      <td>429</td>\n",
       "      <td>9670.0</td>\n",
       "      <td>工业</td>\n",
       "      <td>江西</td>\n",
       "      <td>集体所有制企业</td>\n",
       "      <td>自然人</td>\n",
       "      <td>0.75</td>\n",
       "      <td>1.0</td>\n",
       "      <td>0.0</td>\n",
       "      <td>0.0</td>\n",
       "      <td>...</td>\n",
       "      <td>448.666667</td>\n",
       "      <td>357790.0000</td>\n",
       "      <td>435150.00000</td>\n",
       "      <td>1.051774e+06</td>\n",
       "      <td>603279.06670</td>\n",
       "      <td>264909.65000</td>\n",
       "      <td>-105177.36670</td>\n",
       "      <td>0.0</td>\n",
       "      <td>-77360.00000</td>\n",
       "      <td>1</td>\n",
       "    </tr>\n",
       "    <tr>\n",
       "      <td>3</td>\n",
       "      <td>727</td>\n",
       "      <td>8720.0</td>\n",
       "      <td>零售业</td>\n",
       "      <td>江西</td>\n",
       "      <td>股份有限公司</td>\n",
       "      <td>企业法人</td>\n",
       "      <td>0.54</td>\n",
       "      <td>0.0</td>\n",
       "      <td>0.0</td>\n",
       "      <td>0.0</td>\n",
       "      <td>...</td>\n",
       "      <td>610.333333</td>\n",
       "      <td>398213.3333</td>\n",
       "      <td>584240.00000</td>\n",
       "      <td>1.132728e+06</td>\n",
       "      <td>509509.60000</td>\n",
       "      <td>237271.20000</td>\n",
       "      <td>-113272.80000</td>\n",
       "      <td>0.0</td>\n",
       "      <td>-186026.66670</td>\n",
       "      <td>1</td>\n",
       "    </tr>\n",
       "    <tr>\n",
       "      <td>4</td>\n",
       "      <td>1137</td>\n",
       "      <td>2240.0</td>\n",
       "      <td>商业服务业</td>\n",
       "      <td>广东</td>\n",
       "      <td>有限责任公司</td>\n",
       "      <td>企业法人</td>\n",
       "      <td>0.83</td>\n",
       "      <td>0.0</td>\n",
       "      <td>0.0</td>\n",
       "      <td>0.0</td>\n",
       "      <td>...</td>\n",
       "      <td>418.000000</td>\n",
       "      <td>97440.0000</td>\n",
       "      <td>93333.33333</td>\n",
       "      <td>1.450027e+05</td>\n",
       "      <td>66154.66667</td>\n",
       "      <td>60689.06667</td>\n",
       "      <td>-14500.26667</td>\n",
       "      <td>0.0</td>\n",
       "      <td>-18666.66667</td>\n",
       "      <td>1</td>\n",
       "    </tr>\n",
       "    <tr>\n",
       "      <td>5</td>\n",
       "      <td>1274</td>\n",
       "      <td>5350.0</td>\n",
       "      <td>零售业</td>\n",
       "      <td>广西</td>\n",
       "      <td>集体所有制企业</td>\n",
       "      <td>自然人</td>\n",
       "      <td>0.85</td>\n",
       "      <td>0.0</td>\n",
       "      <td>0.0</td>\n",
       "      <td>0.0</td>\n",
       "      <td>...</td>\n",
       "      <td>347.333333</td>\n",
       "      <td>274633.3333</td>\n",
       "      <td>351316.66670</td>\n",
       "      <td>6.202433e+05</td>\n",
       "      <td>406457.33330</td>\n",
       "      <td>124048.66670</td>\n",
       "      <td>-62024.33333</td>\n",
       "      <td>0.0</td>\n",
       "      <td>-76683.33333</td>\n",
       "      <td>1</td>\n",
       "    </tr>\n",
       "  </tbody>\n",
       "</table>\n",
       "<p>5 rows × 28 columns</p>\n",
       "</div>"
      ],
      "text/plain": [
       "     ID    注册资本     行业  区域     企业类型 控制人类型  控制人持股比例   专利   商标  著作权  ...  \\\n",
       "1   230  3360.0    服务业  广东  农民专业合作社  企业法人     1.00  0.0  0.0  0.0  ...   \n",
       "2   429  9670.0     工业  江西  集体所有制企业   自然人     0.75  1.0  0.0  0.0  ...   \n",
       "3   727  8720.0    零售业  江西   股份有限公司  企业法人     0.54  0.0  0.0  0.0  ...   \n",
       "4  1137  2240.0  商业服务业  广东   有限责任公司  企业法人     0.83  0.0  0.0  0.0  ...   \n",
       "5  1274  5350.0    零售业  广西  集体所有制企业   自然人     0.85  0.0  0.0  0.0  ...   \n",
       "\n",
       "         从业人数         资产总额          负债总额         营业总收入        主营业务收入  \\\n",
       "1  480.666667   76160.0000   94080.00000  1.004640e+05   65822.40000   \n",
       "2  448.666667  357790.0000  435150.00000  1.051774e+06  603279.06670   \n",
       "3  610.333333  398213.3333  584240.00000  1.132728e+06  509509.60000   \n",
       "4  418.000000   97440.0000   93333.33333  1.450027e+05   66154.66667   \n",
       "5  347.333333  274633.3333  351316.66670  6.202433e+05  406457.33330   \n",
       "\n",
       "           利润总额           净利润  纳税总额       所有者权益合计  flag  \n",
       "1   39838.40000  -10046.40000   0.0  -17920.00000     1  \n",
       "2  264909.65000 -105177.36670   0.0  -77360.00000     1  \n",
       "3  237271.20000 -113272.80000   0.0 -186026.66670     1  \n",
       "4   60689.06667  -14500.26667   0.0  -18666.66667     1  \n",
       "5  124048.66670  -62024.33333   0.0  -76683.33333     1  \n",
       "\n",
       "[5 rows x 28 columns]"
      ]
     },
     "execution_count": 4,
     "metadata": {},
     "output_type": "execute_result"
    }
   ],
   "source": [
    "print(df_train.shape)\n",
    "df_train.head()"
   ]
  },
  {
   "cell_type": "code",
   "execution_count": 5,
   "metadata": {},
   "outputs": [],
   "source": [
    "X_train, Y_train = np.split(np.array(df_train), (-1,), axis=1)\n",
    "X_test, Y_test = np.split(np.array(df_test), (-1,), axis=1)\n",
    "Y_train = Y_train.astype('int')\n",
    "Y_test =Y_test.astype('int')"
   ]
  },
  {
   "cell_type": "code",
   "execution_count": 6,
   "metadata": {},
   "outputs": [
    {
     "data": {
      "text/plain": [
       "array([[230, 3360.0, '服务业', ..., -10046.4, 0.0, -17920.0],\n",
       "       [429, 9670.0, '工业', ..., -105177.3667, 0.0, -77360.0],\n",
       "       [727, 8720.0, '零售业', ..., -113272.8, 0.0, -186026.6667],\n",
       "       ...,\n",
       "       [5978031, 3290.0, '交通运输业', ..., 23117.733330000003,\n",
       "        58912.93332999999, -45511.66667],\n",
       "       [5978032, 6060.0, '工业', ..., 29088.0, 85082.4, -57570.0],\n",
       "       [5978033, 6960.0, '零售业', ..., 25241.6, 197385.6, -120640.0]],\n",
       "      dtype=object)"
      ]
     },
     "execution_count": 6,
     "metadata": {},
     "output_type": "execute_result"
    }
   ],
   "source": [
    "X_train"
   ]
  },
  {
   "cell_type": "code",
   "execution_count": 7,
   "metadata": {},
   "outputs": [],
   "source": [
    "encoder = OneHotEncoder(sparse = False)"
   ]
  },
  {
   "cell_type": "code",
   "execution_count": 8,
   "metadata": {},
   "outputs": [],
   "source": [
    "zh_train = X_train[:, 2:6]\n",
    "# X_train = np.delete(X_train, range(2, 6), axis = 1)\n",
    "X_train = X_train[:,19:]\n",
    "zh_test = X_test[:, 2:6]\n",
    "# X_test = np.delete(X_test, range(2, 6), axis = 1)\n",
    "X_test = X_test[:,19:]"
   ]
  },
  {
   "cell_type": "code",
   "execution_count": 9,
   "metadata": {},
   "outputs": [
    {
     "data": {
      "text/plain": [
       "array([['商业服务业', '山东', '股份有限公司', '自然人'],\n",
       "       ['商业服务业', '广东', '股份有限公司', '企业法人'],\n",
       "       ['交通运输业', '广西', '农民专业合作社', '企业法人'],\n",
       "       ...,\n",
       "       ['工业', '广西', '有限责任公司', '企业法人'],\n",
       "       ['商业服务业', '湖南', '股份有限公司', '企业法人'],\n",
       "       ['交通运输业', '广西', '集体所有制企业', '企业法人']], dtype=object)"
      ]
     },
     "execution_count": 9,
     "metadata": {},
     "output_type": "execute_result"
    }
   ],
   "source": [
    "zh_test"
   ]
  },
  {
   "cell_type": "code",
   "execution_count": 10,
   "metadata": {},
   "outputs": [],
   "source": [
    "ans_train = encoder.fit_transform(zh_train)\n",
    "ans_test = encoder.fit_transform(zh_test)"
   ]
  },
  {
   "cell_type": "code",
   "execution_count": 11,
   "metadata": {},
   "outputs": [
    {
     "name": "stdout",
     "output_type": "stream",
     "text": [
      "(13269, 20) (13198, 20)\n"
     ]
    }
   ],
   "source": [
    "print(ans_train.shape, ans_test.shape)"
   ]
  },
  {
   "cell_type": "code",
   "execution_count": 12,
   "metadata": {},
   "outputs": [],
   "source": [
    "X_train = np.hstack((X_train,ans_train)).astype('float32')\n",
    "X_test = np.hstack((X_test,ans_test)).astype('float32')"
   ]
  },
  {
   "cell_type": "code",
   "execution_count": 13,
   "metadata": {},
   "outputs": [
    {
     "name": "stdout",
     "output_type": "stream",
     "text": [
      "(13269, 28) (13198, 28)\n"
     ]
    }
   ],
   "source": [
    "print(X_train.shape, X_test.shape)"
   ]
  },
  {
   "cell_type": "code",
   "execution_count": 14,
   "metadata": {},
   "outputs": [
    {
     "data": {
      "text/plain": [
       "dtype('float32')"
      ]
     },
     "execution_count": 14,
     "metadata": {},
     "output_type": "execute_result"
    }
   ],
   "source": [
    "X_train.dtype"
   ]
  },
  {
   "cell_type": "code",
   "execution_count": 15,
   "metadata": {},
   "outputs": [],
   "source": [
    "# trainx = Normalizer().fit_transform(X_train)\n",
    "# testx = Normalizer().fit_transform(X_test)\n",
    "\n",
    "trainx = Normalizer().fit_transform(X_train)\n",
    "testx = Normalizer().fit_transform(X_test)"
   ]
  },
  {
   "cell_type": "code",
   "execution_count": 16,
   "metadata": {},
   "outputs": [
    {
     "data": {
      "text/plain": [
       "array([[4.3195996e-01, 5.3359759e-01, 5.6980598e-01, ..., 0.0000000e+00,\n",
       "        5.6717431e-06, 0.0000000e+00],\n",
       "       [2.6130915e-01, 3.1780842e-01, 7.6815468e-01, ..., 7.3034221e-07,\n",
       "        0.0000000e+00, 7.3034221e-07],\n",
       "       [2.7181214e-01, 3.9879006e-01, 7.7317655e-01, ..., 0.0000000e+00,\n",
       "        6.8257918e-07, 0.0000000e+00],\n",
       "       ...,\n",
       "       [3.2165340e-01, 4.6365994e-01, 6.9463444e-01, ..., 3.1202230e-06,\n",
       "        0.0000000e+00, 3.1202230e-06],\n",
       "       [2.3461127e-01, 3.4074494e-01, 7.7086562e-01, ..., 0.0000000e+00,\n",
       "        1.8435586e-06, 0.0000000e+00],\n",
       "       [2.0292844e-01, 4.4545266e-01, 6.4277172e-01, ..., 0.0000000e+00,\n",
       "        0.0000000e+00, 1.4222627e-06]], dtype=float32)"
      ]
     },
     "execution_count": 16,
     "metadata": {},
     "output_type": "execute_result"
    }
   ],
   "source": [
    "trainx"
   ]
  },
  {
   "cell_type": "code",
   "execution_count": 17,
   "metadata": {},
   "outputs": [
    {
     "data": {
      "text/plain": [
       "(13269, 28)"
      ]
     },
     "execution_count": 17,
     "metadata": {},
     "output_type": "execute_result"
    }
   ],
   "source": [
    "trainx.shape"
   ]
  },
  {
   "cell_type": "code",
   "execution_count": 18,
   "metadata": {},
   "outputs": [],
   "source": [
    "# data_train = VarianceThreshold(threshold=0.005).fit_transform(trainx)\n",
    "# data_test = VarianceThreshold(threshold=0.005).fit_transform(testx)"
   ]
  },
  {
   "cell_type": "code",
   "execution_count": 19,
   "metadata": {},
   "outputs": [],
   "source": [
    "trainx = PCA(n_components=27).fit_transform(trainx)\n",
    "testx = PCA(n_components=27).fit_transform(testx)"
   ]
  },
  {
   "cell_type": "code",
   "execution_count": 20,
   "metadata": {},
   "outputs": [
    {
     "data": {
      "text/plain": [
       "array([[4.3195996e-01, 5.3359759e-01, 5.6980598e-01, ..., 0.0000000e+00,\n",
       "        5.6717431e-06, 0.0000000e+00],\n",
       "       [2.6130915e-01, 3.1780842e-01, 7.6815468e-01, ..., 7.3034221e-07,\n",
       "        0.0000000e+00, 7.3034221e-07],\n",
       "       [2.7181214e-01, 3.9879006e-01, 7.7317655e-01, ..., 0.0000000e+00,\n",
       "        6.8257918e-07, 0.0000000e+00],\n",
       "       ...,\n",
       "       [3.2165340e-01, 4.6365994e-01, 6.9463444e-01, ..., 3.1202230e-06,\n",
       "        0.0000000e+00, 3.1202230e-06],\n",
       "       [2.3461127e-01, 3.4074494e-01, 7.7086562e-01, ..., 0.0000000e+00,\n",
       "        1.8435586e-06, 0.0000000e+00],\n",
       "       [2.0292844e-01, 4.4545266e-01, 6.4277172e-01, ..., 0.0000000e+00,\n",
       "        0.0000000e+00, 1.4222627e-06]], dtype=float32)"
      ]
     },
     "execution_count": 20,
     "metadata": {},
     "output_type": "execute_result"
    }
   ],
   "source": [
    "trainx"
   ]
  },
  {
   "cell_type": "code",
   "execution_count": 21,
   "metadata": {},
   "outputs": [],
   "source": [
    "def Liner_SVM(data_train, data_test, lable_train, lable_test):\n",
    "    # 用网格搜索法来获取最优的C\n",
    "    # 搜索最优的C值\n",
    "    param_grid = {'C': [1, 10, 100], 'kernel': ['linear']}\n",
    "    clf = GridSearchCV(svm.SVC(degree=5, max_iter=10000), cv=3, param_grid=param_grid, refit=True, )\n",
    "    clf.fit(data_train, lable_train)\n",
    "    # 预测数据\n",
    "    predict = clf.predict(data_test)\n",
    "    # 生成准确率\n",
    "    accuracy_rate = metrics.accuracy_score(lable_test, predict)\n",
    "    print('精度为%s' % accuracy_rate)"
   ]
  },
  {
   "cell_type": "code",
   "execution_count": 22,
   "metadata": {},
   "outputs": [
    {
     "name": "stderr",
     "output_type": "stream",
     "text": [
      "D:\\Anaconda3\\lib\\site-packages\\sklearn\\utils\\validation.py:724: DataConversionWarning: A column-vector y was passed when a 1d array was expected. Please change the shape of y to (n_samples, ), for example using ravel().\n",
      "  y = column_or_1d(y, warn=True)\n",
      "D:\\Anaconda3\\lib\\site-packages\\sklearn\\utils\\validation.py:724: DataConversionWarning: A column-vector y was passed when a 1d array was expected. Please change the shape of y to (n_samples, ), for example using ravel().\n",
      "  y = column_or_1d(y, warn=True)\n",
      "D:\\Anaconda3\\lib\\site-packages\\sklearn\\utils\\validation.py:724: DataConversionWarning: A column-vector y was passed when a 1d array was expected. Please change the shape of y to (n_samples, ), for example using ravel().\n",
      "  y = column_or_1d(y, warn=True)\n",
      "D:\\Anaconda3\\lib\\site-packages\\sklearn\\utils\\validation.py:724: DataConversionWarning: A column-vector y was passed when a 1d array was expected. Please change the shape of y to (n_samples, ), for example using ravel().\n",
      "  y = column_or_1d(y, warn=True)\n",
      "D:\\Anaconda3\\lib\\site-packages\\sklearn\\utils\\validation.py:724: DataConversionWarning: A column-vector y was passed when a 1d array was expected. Please change the shape of y to (n_samples, ), for example using ravel().\n",
      "  y = column_or_1d(y, warn=True)\n",
      "D:\\Anaconda3\\lib\\site-packages\\sklearn\\utils\\validation.py:724: DataConversionWarning: A column-vector y was passed when a 1d array was expected. Please change the shape of y to (n_samples, ), for example using ravel().\n",
      "  y = column_or_1d(y, warn=True)\n",
      "D:\\Anaconda3\\lib\\site-packages\\sklearn\\utils\\validation.py:724: DataConversionWarning: A column-vector y was passed when a 1d array was expected. Please change the shape of y to (n_samples, ), for example using ravel().\n",
      "  y = column_or_1d(y, warn=True)\n",
      "D:\\Anaconda3\\lib\\site-packages\\sklearn\\svm\\base.py:241: ConvergenceWarning: Solver terminated early (max_iter=10000).  Consider pre-processing your data with StandardScaler or MinMaxScaler.\n",
      "  % self.max_iter, ConvergenceWarning)\n",
      "D:\\Anaconda3\\lib\\site-packages\\sklearn\\utils\\validation.py:724: DataConversionWarning: A column-vector y was passed when a 1d array was expected. Please change the shape of y to (n_samples, ), for example using ravel().\n",
      "  y = column_or_1d(y, warn=True)\n",
      "D:\\Anaconda3\\lib\\site-packages\\sklearn\\utils\\validation.py:724: DataConversionWarning: A column-vector y was passed when a 1d array was expected. Please change the shape of y to (n_samples, ), for example using ravel().\n",
      "  y = column_or_1d(y, warn=True)\n",
      "D:\\Anaconda3\\lib\\site-packages\\sklearn\\utils\\validation.py:724: DataConversionWarning: A column-vector y was passed when a 1d array was expected. Please change the shape of y to (n_samples, ), for example using ravel().\n",
      "  y = column_or_1d(y, warn=True)\n",
      "D:\\Anaconda3\\lib\\site-packages\\sklearn\\svm\\base.py:241: ConvergenceWarning: Solver terminated early (max_iter=10000).  Consider pre-processing your data with StandardScaler or MinMaxScaler.\n",
      "  % self.max_iter, ConvergenceWarning)\n"
     ]
    },
    {
     "name": "stdout",
     "output_type": "stream",
     "text": [
      "精度为0.9675708440672829\n"
     ]
    }
   ],
   "source": [
    "Liner_SVM(trainx, testx, Y_train, Y_test)"
   ]
  },
  {
   "cell_type": "code",
   "execution_count": null,
   "metadata": {},
   "outputs": [],
   "source": []
  }
 ],
 "metadata": {
  "kernelspec": {
   "display_name": "Python 3",
   "language": "python",
   "name": "python3"
  },
  "language_info": {
   "codemirror_mode": {
    "name": "ipython",
    "version": 3
   },
   "file_extension": ".py",
   "mimetype": "text/x-python",
   "name": "python",
   "nbconvert_exporter": "python",
   "pygments_lexer": "ipython3",
   "version": "3.7.4"
  },
  "pycharm": {
   "stem_cell": {
    "cell_type": "raw",
    "metadata": {
     "collapsed": false
    },
    "source": []
   }
  }
 },
 "nbformat": 4,
 "nbformat_minor": 1
}
